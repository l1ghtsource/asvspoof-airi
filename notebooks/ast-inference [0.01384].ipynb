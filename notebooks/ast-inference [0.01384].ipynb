{
 "cells": [
  {
   "cell_type": "code",
   "execution_count": 1,
   "id": "82fc800a",
   "metadata": {
    "execution": {
     "iopub.execute_input": "2024-11-27T09:43:46.751103Z",
     "iopub.status.busy": "2024-11-27T09:43:46.750758Z",
     "iopub.status.idle": "2024-11-27T09:44:06.337665Z",
     "shell.execute_reply": "2024-11-27T09:44:06.336922Z"
    },
    "papermill": {
     "duration": 19.592761,
     "end_time": "2024-11-27T09:44:06.339668",
     "exception": false,
     "start_time": "2024-11-27T09:43:46.746907",
     "status": "completed"
    },
    "tags": []
   },
   "outputs": [],
   "source": [
    "from datasets import Dataset, DatasetDict, Audio, ClassLabel, Features\n",
    "import numpy as np\n",
    "import soundfile as sf\n",
    "import os\n",
    "import torch\n",
    "import pandas as pd\n",
    "from tqdm import tqdm\n",
    "from transformers import ASTFeatureExtractor, ASTForAudioClassification, Trainer, TrainingArguments\n",
    "from torch.utils.data import DataLoader\n",
    "from datasets import Audio\n",
    "import torchaudio"
   ]
  },
  {
   "cell_type": "code",
   "execution_count": null,
   "id": "584024b9",
   "metadata": {
    "execution": {
     "iopub.execute_input": "2024-11-27T09:44:06.345038Z",
     "iopub.status.busy": "2024-11-27T09:44:06.344502Z",
     "iopub.status.idle": "2024-11-27T09:44:06.348867Z",
     "shell.execute_reply": "2024-11-27T09:44:06.348173Z"
    },
    "papermill": {
     "duration": 0.008608,
     "end_time": "2024-11-27T09:44:06.350538",
     "exception": false,
     "start_time": "2024-11-27T09:44:06.341930",
     "status": "completed"
    },
    "tags": []
   },
   "outputs": [],
   "source": [
    "os.environ[\"WANDB_API_KEY\"] = 'your key'\n",
    "os.environ[\"WANDB_PROJECT\"] = \"AST AIRI 228\"\n",
    "os.environ[\"WANDB_NOTES\"] = \"ASTSPOOF AIRI 228\"\n",
    "os.environ[\"WANDB_NAME\"] = \"astspoof-airi-228\""
   ]
  },
  {
   "cell_type": "code",
   "execution_count": 3,
   "id": "84ea2f03",
   "metadata": {
    "_cell_guid": "b1076dfc-b9ad-4769-8c92-a6c4dae69d19",
    "_uuid": "8f2839f25d086af736a60e9eeb907d3b93b6e0e5",
    "execution": {
     "iopub.execute_input": "2024-11-27T09:44:06.355359Z",
     "iopub.status.busy": "2024-11-27T09:44:06.355104Z",
     "iopub.status.idle": "2024-11-27T09:44:06.360658Z",
     "shell.execute_reply": "2024-11-27T09:44:06.359932Z"
    },
    "papermill": {
     "duration": 0.009848,
     "end_time": "2024-11-27T09:44:06.362279",
     "exception": false,
     "start_time": "2024-11-27T09:44:06.352431",
     "status": "completed"
    },
    "tags": []
   },
   "outputs": [],
   "source": [
    "def get_ast_dataset(\n",
    "    test_dir='/kaggle/input/safe-speak-2024-audio-spoof-detection-hackathon/wavs'\n",
    "):\n",
    "    valid_audio_files = []\n",
    "    bad_names = []\n",
    "    \n",
    "    for file in tqdm(os.listdir(test_dir)):\n",
    "        if file.endswith('.wav'):\n",
    "            file_path = os.path.join(test_dir, file)\n",
    "            waveform, sample_rate = torchaudio.load(file_path)\n",
    "            duration = waveform.shape[1] / sample_rate\n",
    "            if duration > 0.5:\n",
    "                valid_audio_files.append(file_path)\n",
    "            else:\n",
    "                print(f\"File: {file}, Duration: {duration:.2f} seconds\")\n",
    "                bad_names.append(file_path)\n",
    "                \n",
    "    test_dataset = Dataset.from_dict({\n",
    "        'audio': valid_audio_files\n",
    "    }, features=Features({\n",
    "        'audio': Audio()\n",
    "    }))\n",
    "    \n",
    "    return test_dataset, bad_names"
   ]
  },
  {
   "cell_type": "code",
   "execution_count": 4,
   "id": "86e7a69d",
   "metadata": {
    "execution": {
     "iopub.execute_input": "2024-11-27T09:44:06.366786Z",
     "iopub.status.busy": "2024-11-27T09:44:06.366518Z",
     "iopub.status.idle": "2024-11-27T09:44:06.369779Z",
     "shell.execute_reply": "2024-11-27T09:44:06.369032Z"
    },
    "papermill": {
     "duration": 0.007224,
     "end_time": "2024-11-27T09:44:06.371335",
     "exception": false,
     "start_time": "2024-11-27T09:44:06.364111",
     "status": "completed"
    },
    "tags": []
   },
   "outputs": [],
   "source": [
    "#test_dataset = get_ast_dataset()"
   ]
  },
  {
   "cell_type": "code",
   "execution_count": 5,
   "id": "8d74980f",
   "metadata": {
    "execution": {
     "iopub.execute_input": "2024-11-27T09:44:06.376000Z",
     "iopub.status.busy": "2024-11-27T09:44:06.375772Z",
     "iopub.status.idle": "2024-11-27T12:32:38.009478Z",
     "shell.execute_reply": "2024-11-27T12:32:38.008700Z"
    },
    "papermill": {
     "duration": 10111.639743,
     "end_time": "2024-11-27T12:32:38.012986",
     "exception": false,
     "start_time": "2024-11-27T09:44:06.373243",
     "status": "completed"
    },
    "tags": []
   },
   "outputs": [
    {
     "data": {
      "application/vnd.jupyter.widget-view+json": {
       "model_id": "122986d645ce4b4eb9deab758f11c610",
       "version_major": 2,
       "version_minor": 0
      },
      "text/plain": [
       "preprocessor_config.json:   0%|          | 0.00/297 [00:00<?, ?B/s]"
      ]
     },
     "metadata": {},
     "output_type": "display_data"
    },
    {
     "name": "stderr",
     "output_type": "stream",
     "text": [
      "  1%|          | 1301/144693 [00:21<37:57, 62.97it/s]"
     ]
    },
    {
     "name": "stdout",
     "output_type": "stream",
     "text": [
      "File: 69402.wav, Duration: 0.44 seconds\n"
     ]
    },
    {
     "name": "stderr",
     "output_type": "stream",
     "text": [
      "  5%|▍         | 7216/144693 [01:58<35:42, 64.16it/s]"
     ]
    },
    {
     "name": "stdout",
     "output_type": "stream",
     "text": [
      "File: 28216.wav, Duration: 0.35 seconds\n"
     ]
    },
    {
     "name": "stderr",
     "output_type": "stream",
     "text": [
      " 10%|█         | 14669/144693 [04:02<32:22, 66.95it/s]"
     ]
    },
    {
     "name": "stdout",
     "output_type": "stream",
     "text": [
      "File: 42427.wav, Duration: 0.44 seconds\n"
     ]
    },
    {
     "name": "stderr",
     "output_type": "stream",
     "text": [
      " 13%|█▎        | 18399/144693 [05:04<36:00, 58.47it/s]"
     ]
    },
    {
     "name": "stdout",
     "output_type": "stream",
     "text": [
      "File: 36657.wav, Duration: 0.37 seconds\n"
     ]
    },
    {
     "name": "stderr",
     "output_type": "stream",
     "text": [
      " 32%|███▏      | 45699/144693 [12:40<28:35, 57.71it/s]"
     ]
    },
    {
     "name": "stdout",
     "output_type": "stream",
     "text": [
      "File: 48776.wav, Duration: 0.27 seconds\n"
     ]
    },
    {
     "name": "stderr",
     "output_type": "stream",
     "text": [
      " 36%|███▌      | 51413/144693 [14:14<25:58, 59.86it/s]"
     ]
    },
    {
     "name": "stdout",
     "output_type": "stream",
     "text": [
      "File: 81539.wav, Duration: 0.47 seconds\n"
     ]
    },
    {
     "name": "stderr",
     "output_type": "stream",
     "text": [
      " 37%|███▋      | 53446/144693 [14:49<24:39, 61.68it/s]"
     ]
    },
    {
     "name": "stdout",
     "output_type": "stream",
     "text": [
      "File: 29774.wav, Duration: 0.45 seconds\n"
     ]
    },
    {
     "name": "stderr",
     "output_type": "stream",
     "text": [
      " 46%|████▌     | 66216/144693 [18:19<22:53, 57.14it/s]"
     ]
    },
    {
     "name": "stdout",
     "output_type": "stream",
     "text": [
      "File: 38063.wav, Duration: 0.38 seconds\n"
     ]
    },
    {
     "name": "stderr",
     "output_type": "stream",
     "text": [
      " 55%|█████▌    | 79617/144693 [22:01<16:40, 65.07it/s]"
     ]
    },
    {
     "name": "stdout",
     "output_type": "stream",
     "text": [
      "File: 58122.wav, Duration: 0.31 seconds\n"
     ]
    },
    {
     "name": "stderr",
     "output_type": "stream",
     "text": [
      " 67%|██████▋   | 96954/144693 [26:48<12:39, 62.87it/s]"
     ]
    },
    {
     "name": "stdout",
     "output_type": "stream",
     "text": [
      "File: 73102.wav, Duration: 0.47 seconds\n"
     ]
    },
    {
     "name": "stderr",
     "output_type": "stream",
     "text": [
      " 69%|██████▉   | 100351/144693 [27:44<11:29, 64.32it/s]"
     ]
    },
    {
     "name": "stdout",
     "output_type": "stream",
     "text": [
      "File: 23368.wav, Duration: 0.01 seconds\n"
     ]
    },
    {
     "name": "stderr",
     "output_type": "stream",
     "text": [
      " 70%|██████▉   | 101060/144693 [27:55<10:52, 66.83it/s]"
     ]
    },
    {
     "name": "stdout",
     "output_type": "stream",
     "text": [
      "File: 63228.wav, Duration: 0.40 seconds\n"
     ]
    },
    {
     "name": "stderr",
     "output_type": "stream",
     "text": [
      " 70%|██████▉   | 101088/144693 [27:56<11:31, 63.02it/s]"
     ]
    },
    {
     "name": "stdout",
     "output_type": "stream",
     "text": [
      "File: 66857.wav, Duration: 0.46 seconds\n"
     ]
    },
    {
     "name": "stderr",
     "output_type": "stream",
     "text": [
      " 77%|███████▋  | 111651/144693 [30:47<08:31, 64.63it/s]"
     ]
    },
    {
     "name": "stdout",
     "output_type": "stream",
     "text": [
      "File: 30206.wav, Duration: 0.43 seconds\n"
     ]
    },
    {
     "name": "stderr",
     "output_type": "stream",
     "text": [
      " 83%|████████▎ | 120407/144693 [33:10<06:25, 62.93it/s]"
     ]
    },
    {
     "name": "stdout",
     "output_type": "stream",
     "text": [
      "File: 26036.wav, Duration: 0.48 seconds\n"
     ]
    },
    {
     "name": "stderr",
     "output_type": "stream",
     "text": [
      " 89%|████████▉ | 129162/144693 [35:40<03:57, 65.42it/s]"
     ]
    },
    {
     "name": "stdout",
     "output_type": "stream",
     "text": [
      "File: 45656.wav, Duration: 0.01 seconds\n"
     ]
    },
    {
     "name": "stderr",
     "output_type": "stream",
     "text": [
      " 94%|█████████▍| 135958/144693 [37:32<02:33, 56.79it/s]"
     ]
    },
    {
     "name": "stdout",
     "output_type": "stream",
     "text": [
      "File: 52907.wav, Duration: 0.47 seconds\n"
     ]
    },
    {
     "name": "stderr",
     "output_type": "stream",
     "text": [
      " 95%|█████████▌| 137980/144693 [38:05<01:36, 69.31it/s]"
     ]
    },
    {
     "name": "stdout",
     "output_type": "stream",
     "text": [
      "File: 28268.wav, Duration: 0.11 seconds\n"
     ]
    },
    {
     "name": "stderr",
     "output_type": "stream",
     "text": [
      "100%|██████████| 144693/144693 [39:59<00:00, 60.30it/s]\n"
     ]
    },
    {
     "data": {
      "text/html": [],
      "text/plain": [
       "<IPython.core.display.HTML object>"
      ]
     },
     "metadata": {},
     "output_type": "display_data"
    },
    {
     "name": "stderr",
     "output_type": "stream",
     "text": [
      "\u001b[34m\u001b[1mwandb\u001b[0m: \u001b[33mWARNING\u001b[0m The `run_name` is currently set to the same value as `TrainingArguments.output_dir`. If this was not intended, please specify a different run name by setting the `TrainingArguments.run_name` parameter.\n",
      "\u001b[34m\u001b[1mwandb\u001b[0m: Using wandb-core as the SDK backend. Please refer to https://wandb.me/wandb-core for more information.\n",
      "\u001b[34m\u001b[1mwandb\u001b[0m: Currently logged in as: \u001b[33mlightsource-\u001b[0m (\u001b[33mlightsource-unk\u001b[0m). Use \u001b[1m`wandb login --relogin`\u001b[0m to force relogin\n",
      "\u001b[34m\u001b[1mwandb\u001b[0m: Tracking run with wandb version 0.18.3\n",
      "\u001b[34m\u001b[1mwandb\u001b[0m: Run data is saved locally in \u001b[35m\u001b[1m/kaggle/working/wandb/run-20241127_123234-lp6xo82n\u001b[0m\n",
      "\u001b[34m\u001b[1mwandb\u001b[0m: Run \u001b[1m`wandb offline`\u001b[0m to turn off syncing.\n",
      "\u001b[34m\u001b[1mwandb\u001b[0m: Syncing run \u001b[33m./results\u001b[0m\n",
      "\u001b[34m\u001b[1mwandb\u001b[0m: ⭐️ View project at \u001b[34m\u001b[4mhttps://wandb.ai/lightsource-unk/AST%20AIRI%20228\u001b[0m\n",
      "\u001b[34m\u001b[1mwandb\u001b[0m: 🚀 View run at \u001b[34m\u001b[4mhttps://wandb.ai/lightsource-unk/AST%20AIRI%20228/runs/lp6xo82n\u001b[0m\n"
     ]
    }
   ],
   "source": [
    "feature_extractor = ASTFeatureExtractor.from_pretrained('MIT/ast-finetuned-audioset-10-10-0.4593')\n",
    "model = ASTForAudioClassification.from_pretrained('/kaggle/input/ast-airi-train/runs/ast_classifier/checkpoint-6834')\n",
    "INPUT_NAME = feature_extractor.model_input_names[0]\n",
    "\n",
    "def preprocess_audio(batch):\n",
    "    wavs = [audio['array'] for audio in batch[INPUT_NAME]]\n",
    "    inputs = feature_extractor(wavs, sampling_rate=feature_extractor.sampling_rate, return_tensors='pt')\n",
    "    return {INPUT_NAME: inputs[INPUT_NAME]}\n",
    "\n",
    "test_dataset, bad_names = get_ast_dataset()\n",
    "\n",
    "test_dataset = test_dataset.cast_column('audio', Audio(sampling_rate=feature_extractor.sampling_rate))\n",
    "\n",
    "test_dataset = test_dataset.rename_column('audio', INPUT_NAME)\n",
    "test_dataset.set_transform(preprocess_audio, output_all_columns=False)\n",
    "\n",
    "trainer = Trainer(\n",
    "    model=model,\n",
    "    args=TrainingArguments(\n",
    "        output_dir='./results',\n",
    "        per_device_eval_batch_size=128\n",
    "    )\n",
    ")\n",
    "\n",
    "test_predictions = trainer.predict(test_dataset)\n",
    "logits = test_predictions.predictions\n",
    "probabilities = torch.softmax(torch.tensor(logits), dim=-1).numpy()\n",
    "class_0 = probabilities[:, 0]\n",
    "class_1 = probabilities[:, 1]"
   ]
  },
  {
   "cell_type": "code",
   "execution_count": 6,
   "id": "7574348c",
   "metadata": {
    "execution": {
     "iopub.execute_input": "2024-11-27T12:32:40.185353Z",
     "iopub.status.busy": "2024-11-27T12:32:40.184500Z",
     "iopub.status.idle": "2024-11-27T12:32:40.189340Z",
     "shell.execute_reply": "2024-11-27T12:32:40.188523Z"
    },
    "papermill": {
     "duration": 1.050526,
     "end_time": "2024-11-27T12:32:40.190980",
     "exception": false,
     "start_time": "2024-11-27T12:32:39.140454",
     "status": "completed"
    },
    "tags": []
   },
   "outputs": [],
   "source": [
    "import os"
   ]
  },
  {
   "cell_type": "code",
   "execution_count": null,
   "id": "797f97a4",
   "metadata": {
    "execution": {
     "iopub.execute_input": "2024-11-27T12:32:42.200211Z",
     "iopub.status.busy": "2024-11-27T12:32:42.199469Z",
     "iopub.status.idle": "2024-11-27T12:32:43.645357Z",
     "shell.execute_reply": "2024-11-27T12:32:43.644658Z"
    },
    "papermill": {
     "duration": 2.455086,
     "end_time": "2024-11-27T12:32:43.647338",
     "exception": false,
     "start_time": "2024-11-27T12:32:41.192252",
     "status": "completed"
    },
    "tags": []
   },
   "outputs": [],
   "source": [
    "test_dir = '/kaggle/input/safe-speak-2024-audio-spoof-detection-hackathon/wavs/'\n",
    "test_audio_files = [os.path.join(test_dir, file) for file in os.listdir(test_dir) if file.endswith('.wav')]\n",
    "idxs = [int(test_audio_files[i].split('/')[-1][:-4]) for i in range(len(test_audio_files))]\n",
    "idxs_bad = [int(bad_name.split('/')[-1][:-4]) for bad_name in bad_names]\n",
    "\n",
    "df = pd.DataFrame({\n",
    "    'ID': [x for x in idxs if x not in idxs_bad],\n",
    "    'score': class_0\n",
    "})\n",
    "\n",
    "df_bad = pd.DataFrame({\n",
    "    'ID': idxs_bad,\n",
    "    'score': [0 for _ in range(len(idxs_bad))] # скорее всего короткие это спуф поэтому тут нули)\n",
    "})\n",
    "\n",
    "df = pd.concat([df, df_bad]).sort_values(by=['ID'])\n",
    "\n",
    "df.to_csv('submission_ast_class1.csv', index=False)"
   ]
  }
 ],
 "metadata": {
  "kaggle": {
   "accelerator": "gpu",
   "dataSources": [
    {
     "databundleVersionId": 10051766,
     "sourceId": 87433,
     "sourceType": "competition"
    },
    {
     "datasetId": 6174291,
     "sourceId": 10026097,
     "sourceType": "datasetVersion"
    }
   ],
   "isGpuEnabled": true,
   "isInternetEnabled": true,
   "language": "python",
   "sourceType": "notebook"
  },
  "kernelspec": {
   "display_name": "Python 3",
   "language": "python",
   "name": "python3"
  },
  "language_info": {
   "codemirror_mode": {
    "name": "ipython",
    "version": 3
   },
   "file_extension": ".py",
   "mimetype": "text/x-python",
   "name": "python",
   "nbconvert_exporter": "python",
   "pygments_lexer": "ipython3",
   "version": "3.10.14"
  },
  "papermill": {
   "default_parameters": {},
   "duration": 10144.07628,
   "end_time": "2024-11-27T12:32:48.352528",
   "environment_variables": {},
   "exception": null,
   "input_path": "__notebook__.ipynb",
   "output_path": "__notebook__.ipynb",
   "parameters": {},
   "start_time": "2024-11-27T09:43:44.276248",
   "version": "2.6.0"
  },
  "widgets": {
   "application/vnd.jupyter.widget-state+json": {
    "state": {
     "01dd83c0f78940a58b4bfd0c58aa9214": {
      "model_module": "@jupyter-widgets/controls",
      "model_module_version": "1.5.0",
      "model_name": "HTMLModel",
      "state": {
       "_dom_classes": [],
       "_model_module": "@jupyter-widgets/controls",
       "_model_module_version": "1.5.0",
       "_model_name": "HTMLModel",
       "_view_count": null,
       "_view_module": "@jupyter-widgets/controls",
       "_view_module_version": "1.5.0",
       "_view_name": "HTMLView",
       "description": "",
       "description_tooltip": null,
       "layout": "IPY_MODEL_4770bd9946a049ce8f69b0add5636336",
       "placeholder": "​",
       "style": "IPY_MODEL_7479fc04b2f1490b9c0a9bf8aee631e8",
       "value": "preprocessor_config.json: 100%"
      }
     },
     "122986d645ce4b4eb9deab758f11c610": {
      "model_module": "@jupyter-widgets/controls",
      "model_module_version": "1.5.0",
      "model_name": "HBoxModel",
      "state": {
       "_dom_classes": [],
       "_model_module": "@jupyter-widgets/controls",
       "_model_module_version": "1.5.0",
       "_model_name": "HBoxModel",
       "_view_count": null,
       "_view_module": "@jupyter-widgets/controls",
       "_view_module_version": "1.5.0",
       "_view_name": "HBoxView",
       "box_style": "",
       "children": [
        "IPY_MODEL_01dd83c0f78940a58b4bfd0c58aa9214",
        "IPY_MODEL_1a083ee74a9f48f29ed05fc9d4fbfebe",
        "IPY_MODEL_b9b5a1cf468445f0a64d2b502c759c5d"
       ],
       "layout": "IPY_MODEL_7e2f80538c2b490eba32f0ac4639c6b7"
      }
     },
     "1a083ee74a9f48f29ed05fc9d4fbfebe": {
      "model_module": "@jupyter-widgets/controls",
      "model_module_version": "1.5.0",
      "model_name": "FloatProgressModel",
      "state": {
       "_dom_classes": [],
       "_model_module": "@jupyter-widgets/controls",
       "_model_module_version": "1.5.0",
       "_model_name": "FloatProgressModel",
       "_view_count": null,
       "_view_module": "@jupyter-widgets/controls",
       "_view_module_version": "1.5.0",
       "_view_name": "ProgressView",
       "bar_style": "success",
       "description": "",
       "description_tooltip": null,
       "layout": "IPY_MODEL_e5e92d4cf440440783b1ee786fcf5403",
       "max": 297,
       "min": 0,
       "orientation": "horizontal",
       "style": "IPY_MODEL_c8f2513de4f042cfa1dbb3dd6b8a243c",
       "value": 297
      }
     },
     "4215b67e422749fcba8fe836d30267bc": {
      "model_module": "@jupyter-widgets/base",
      "model_module_version": "1.2.0",
      "model_name": "LayoutModel",
      "state": {
       "_model_module": "@jupyter-widgets/base",
       "_model_module_version": "1.2.0",
       "_model_name": "LayoutModel",
       "_view_count": null,
       "_view_module": "@jupyter-widgets/base",
       "_view_module_version": "1.2.0",
       "_view_name": "LayoutView",
       "align_content": null,
       "align_items": null,
       "align_self": null,
       "border": null,
       "bottom": null,
       "display": null,
       "flex": null,
       "flex_flow": null,
       "grid_area": null,
       "grid_auto_columns": null,
       "grid_auto_flow": null,
       "grid_auto_rows": null,
       "grid_column": null,
       "grid_gap": null,
       "grid_row": null,
       "grid_template_areas": null,
       "grid_template_columns": null,
       "grid_template_rows": null,
       "height": null,
       "justify_content": null,
       "justify_items": null,
       "left": null,
       "margin": null,
       "max_height": null,
       "max_width": null,
       "min_height": null,
       "min_width": null,
       "object_fit": null,
       "object_position": null,
       "order": null,
       "overflow": null,
       "overflow_x": null,
       "overflow_y": null,
       "padding": null,
       "right": null,
       "top": null,
       "visibility": null,
       "width": null
      }
     },
     "4770bd9946a049ce8f69b0add5636336": {
      "model_module": "@jupyter-widgets/base",
      "model_module_version": "1.2.0",
      "model_name": "LayoutModel",
      "state": {
       "_model_module": "@jupyter-widgets/base",
       "_model_module_version": "1.2.0",
       "_model_name": "LayoutModel",
       "_view_count": null,
       "_view_module": "@jupyter-widgets/base",
       "_view_module_version": "1.2.0",
       "_view_name": "LayoutView",
       "align_content": null,
       "align_items": null,
       "align_self": null,
       "border": null,
       "bottom": null,
       "display": null,
       "flex": null,
       "flex_flow": null,
       "grid_area": null,
       "grid_auto_columns": null,
       "grid_auto_flow": null,
       "grid_auto_rows": null,
       "grid_column": null,
       "grid_gap": null,
       "grid_row": null,
       "grid_template_areas": null,
       "grid_template_columns": null,
       "grid_template_rows": null,
       "height": null,
       "justify_content": null,
       "justify_items": null,
       "left": null,
       "margin": null,
       "max_height": null,
       "max_width": null,
       "min_height": null,
       "min_width": null,
       "object_fit": null,
       "object_position": null,
       "order": null,
       "overflow": null,
       "overflow_x": null,
       "overflow_y": null,
       "padding": null,
       "right": null,
       "top": null,
       "visibility": null,
       "width": null
      }
     },
     "585e4d15a09f490097bde1d073a58077": {
      "model_module": "@jupyter-widgets/controls",
      "model_module_version": "1.5.0",
      "model_name": "DescriptionStyleModel",
      "state": {
       "_model_module": "@jupyter-widgets/controls",
       "_model_module_version": "1.5.0",
       "_model_name": "DescriptionStyleModel",
       "_view_count": null,
       "_view_module": "@jupyter-widgets/base",
       "_view_module_version": "1.2.0",
       "_view_name": "StyleView",
       "description_width": ""
      }
     },
     "7479fc04b2f1490b9c0a9bf8aee631e8": {
      "model_module": "@jupyter-widgets/controls",
      "model_module_version": "1.5.0",
      "model_name": "DescriptionStyleModel",
      "state": {
       "_model_module": "@jupyter-widgets/controls",
       "_model_module_version": "1.5.0",
       "_model_name": "DescriptionStyleModel",
       "_view_count": null,
       "_view_module": "@jupyter-widgets/base",
       "_view_module_version": "1.2.0",
       "_view_name": "StyleView",
       "description_width": ""
      }
     },
     "7e2f80538c2b490eba32f0ac4639c6b7": {
      "model_module": "@jupyter-widgets/base",
      "model_module_version": "1.2.0",
      "model_name": "LayoutModel",
      "state": {
       "_model_module": "@jupyter-widgets/base",
       "_model_module_version": "1.2.0",
       "_model_name": "LayoutModel",
       "_view_count": null,
       "_view_module": "@jupyter-widgets/base",
       "_view_module_version": "1.2.0",
       "_view_name": "LayoutView",
       "align_content": null,
       "align_items": null,
       "align_self": null,
       "border": null,
       "bottom": null,
       "display": null,
       "flex": null,
       "flex_flow": null,
       "grid_area": null,
       "grid_auto_columns": null,
       "grid_auto_flow": null,
       "grid_auto_rows": null,
       "grid_column": null,
       "grid_gap": null,
       "grid_row": null,
       "grid_template_areas": null,
       "grid_template_columns": null,
       "grid_template_rows": null,
       "height": null,
       "justify_content": null,
       "justify_items": null,
       "left": null,
       "margin": null,
       "max_height": null,
       "max_width": null,
       "min_height": null,
       "min_width": null,
       "object_fit": null,
       "object_position": null,
       "order": null,
       "overflow": null,
       "overflow_x": null,
       "overflow_y": null,
       "padding": null,
       "right": null,
       "top": null,
       "visibility": null,
       "width": null
      }
     },
     "b9b5a1cf468445f0a64d2b502c759c5d": {
      "model_module": "@jupyter-widgets/controls",
      "model_module_version": "1.5.0",
      "model_name": "HTMLModel",
      "state": {
       "_dom_classes": [],
       "_model_module": "@jupyter-widgets/controls",
       "_model_module_version": "1.5.0",
       "_model_name": "HTMLModel",
       "_view_count": null,
       "_view_module": "@jupyter-widgets/controls",
       "_view_module_version": "1.5.0",
       "_view_name": "HTMLView",
       "description": "",
       "description_tooltip": null,
       "layout": "IPY_MODEL_4215b67e422749fcba8fe836d30267bc",
       "placeholder": "​",
       "style": "IPY_MODEL_585e4d15a09f490097bde1d073a58077",
       "value": " 297/297 [00:00&lt;00:00, 30.1kB/s]"
      }
     },
     "c8f2513de4f042cfa1dbb3dd6b8a243c": {
      "model_module": "@jupyter-widgets/controls",
      "model_module_version": "1.5.0",
      "model_name": "ProgressStyleModel",
      "state": {
       "_model_module": "@jupyter-widgets/controls",
       "_model_module_version": "1.5.0",
       "_model_name": "ProgressStyleModel",
       "_view_count": null,
       "_view_module": "@jupyter-widgets/base",
       "_view_module_version": "1.2.0",
       "_view_name": "StyleView",
       "bar_color": null,
       "description_width": ""
      }
     },
     "e5e92d4cf440440783b1ee786fcf5403": {
      "model_module": "@jupyter-widgets/base",
      "model_module_version": "1.2.0",
      "model_name": "LayoutModel",
      "state": {
       "_model_module": "@jupyter-widgets/base",
       "_model_module_version": "1.2.0",
       "_model_name": "LayoutModel",
       "_view_count": null,
       "_view_module": "@jupyter-widgets/base",
       "_view_module_version": "1.2.0",
       "_view_name": "LayoutView",
       "align_content": null,
       "align_items": null,
       "align_self": null,
       "border": null,
       "bottom": null,
       "display": null,
       "flex": null,
       "flex_flow": null,
       "grid_area": null,
       "grid_auto_columns": null,
       "grid_auto_flow": null,
       "grid_auto_rows": null,
       "grid_column": null,
       "grid_gap": null,
       "grid_row": null,
       "grid_template_areas": null,
       "grid_template_columns": null,
       "grid_template_rows": null,
       "height": null,
       "justify_content": null,
       "justify_items": null,
       "left": null,
       "margin": null,
       "max_height": null,
       "max_width": null,
       "min_height": null,
       "min_width": null,
       "object_fit": null,
       "object_position": null,
       "order": null,
       "overflow": null,
       "overflow_x": null,
       "overflow_y": null,
       "padding": null,
       "right": null,
       "top": null,
       "visibility": null,
       "width": null
      }
     }
    },
    "version_major": 2,
    "version_minor": 0
   }
  }
 },
 "nbformat": 4,
 "nbformat_minor": 5
}
